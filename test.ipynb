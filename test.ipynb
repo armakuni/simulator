{
 "cells": [
  {
   "cell_type": "code",
   "execution_count": null,
   "metadata": {},
   "outputs": [
    {
     "ename": "",
     "evalue": "",
     "output_type": "error",
     "traceback": [
      "\u001b[1;31mFailed to start the Kernel. \n",
      "\u001b[1;31m/usr/local/lib/node_modules/itypescript/node_modules/node-gyp-build/index.js:60\n",
      "\u001b[1;31m  throw new Error('No native build was found for ' + target + '\\n    loaded from: ' + dir + '\\n')\n",
      "\u001b[1;31m  ^\n",
      "\u001b[1;31m\n",
      "\u001b[1;31mError: No native build was found for platform=linux arch=x64 runtime=electron abi=83 uv=1 libc=glibc node=14.20.1\n",
      "\u001b[1;31m    loaded from: /usr/local/lib/node_modules/itypescript/node_modules/zeromq\n",
      "\u001b[1;31m\n",
      "\u001b[1;31m    at Function.load.path (/usr/local/lib/node_modules/itypescript/node_modules/node-gyp-build/index.js:60:9)\n",
      "\u001b[1;31m    at load (/usr/local/lib/node_modules/itypescript/node_modules/node-gyp-build/index.js:22:30)\n",
      "\u001b[1;31m    at Object.<anonymous> (/usr/local/lib/node_modules/itypescript/node_modules/zeromq/binding.js:1:43)\n",
      "\u001b[1;31m    at Module._compile (internal/modules/cjs/loader.js:1085:14)\n",
      "\u001b[1;31m    at Object.Module._extensions..js (internal/modules/cjs/loader.js:1114:10)\n",
      "\u001b[1;31m    at Module.load (internal/modules/cjs/loader.js:950:32)\n",
      "\u001b[1;31m    at Function.Module._load (internal/modules/cjs/loader.js:790:12)\n",
      "\u001b[1;31m    at Module.require (internal/modules/cjs/loader.js:974:19)\n",
      "\u001b[1;31m    at require (internal/modules/cjs/helpers.js:101:18)\n",
      "\u001b[1;31m    at Object.<anonymous> (/usr/local/lib/node_modules/itypescript/node_modules/zeromq/lib/index.js:6:11). \n",
      "\u001b[1;31mView Jupyter <a href='command:jupyter.viewOutput'>log</a> for further details."
     ]
    }
   ],
   "source": [
    "console.log(\"hello\")"
   ]
  },
  {
   "cell_type": "code",
   "execution_count": null,
   "metadata": {},
   "outputs": [],
   "source": []
  }
 ],
 "metadata": {
  "kernelspec": {
   "display_name": "Typescript 4.8",
   "language": "typescript",
   "name": "typescript"
  },
  "language_info": {
   "codemirror_mode": {
    "name": "ipython",
    "version": 3
   },
   "file_extension": ".py",
   "mimetype": "text/x-python",
   "name": "typescript",
   "nbconvert_exporter": "python",
   "pygments_lexer": "ipython3",
   "version": "3.10.8"
  },
  "orig_nbformat": 4,
  "vscode": {
   "interpreter": {
    "hash": "97cc609b13305c559618ec78a438abc56230b9381f827f22d070313b9a1f3777"
   }
  }
 },
 "nbformat": 4,
 "nbformat_minor": 2
}
